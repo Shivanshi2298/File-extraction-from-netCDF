{
 "cells": [
  {
   "cell_type": "code",
   "execution_count": 29,
   "id": "74a83666",
   "metadata": {},
   "outputs": [],
   "source": [
    "#import required liberies\n",
    "from osgeo import gdal, ogr, osr\n",
    "import netCDF4 as nc\n",
    "import numpy as np"
   ]
  },
  {
   "cell_type": "code",
   "execution_count": 60,
   "id": "92ac6a7b",
   "metadata": {},
   "outputs": [],
   "source": [
    "raster = gdal.Open(r'C:\\Users\\mgi21-031611088\\Desktop\\shivanshi\\shivanshi2\\shivanshi\\thesis_data\\evapotranspiration\\GLEAM_ET_netcdf\\version_A\\Ei_1980-2022_GLEAM_v3.7a_MO.nc')"
   ]
  },
  {
   "cell_type": "code",
   "execution_count": 61,
   "id": "22e82068",
   "metadata": {},
   "outputs": [],
   "source": [
    "#Geotansform parameters of the data\n",
    "gt = raster.GetGeoTransform()\n",
    "out_srs = osr.SpatialReference()\n",
    "out_srs.ImportFromEPSG(4326)\n",
    "no_of_bands = raster.RasterCount\n",
    "width = raster.RasterXSize\n",
    "height = raster.RasterYSize\n",
    "x1 = gt[0]\n",
    "y1 = gt[3]\n",
    "x_res = gt[1]\n",
    "y_res = gt[5]"
   ]
  },
  {
   "cell_type": "code",
   "execution_count": 62,
   "id": "832f279f",
   "metadata": {},
   "outputs": [
    {
     "name": "stdout",
     "output_type": "stream",
     "text": [
      "-180.0 90.0 0.25 -0.25 1440 720 GEOGCS[\"WGS 84\",\n",
      "    DATUM[\"WGS_1984\",\n",
      "        SPHEROID[\"WGS 84\",6378137,298.257223563,\n",
      "            AUTHORITY[\"EPSG\",\"7030\"]],\n",
      "        AUTHORITY[\"EPSG\",\"6326\"]],\n",
      "    PRIMEM[\"Greenwich\",0,\n",
      "        AUTHORITY[\"EPSG\",\"8901\"]],\n",
      "    UNIT[\"degree\",0.0174532925199433,\n",
      "        AUTHORITY[\"EPSG\",\"9122\"]],\n",
      "    AXIS[\"Latitude\",NORTH],\n",
      "    AXIS[\"Longitude\",EAST],\n",
      "    AUTHORITY[\"EPSG\",\"4326\"]]\n"
     ]
    }
   ],
   "source": [
    "#coordinate system of the data\n",
    "print(x1, y1, x_res, y_res, width, height, out_srs)"
   ]
  },
  {
   "cell_type": "code",
   "execution_count": 63,
   "id": "7b2d6dac",
   "metadata": {},
   "outputs": [],
   "source": [
    "#file extraction from netCDF to GTiff\n",
    "driver = gdal.GetDriverByName('GTiff')\n",
    "for band_no in range(264, 456):\n",
    "    out_ds = driver.Create(f'C:\\\\Users\\\\mgi21-031611088\\\\Desktop\\\\shivanshi\\\\shivanshi2\\\\shivanshi\\\\thesis_data\\\\evapotranspiration\\\\GLEAM_ET_netcdf\\\\version_A\\\\ei_yearly\\\\ei{1980 + band_no//12}_{str(band_no%12 + 1).zfill(2)}.tif', width, height, 1, gdal.GDT_Float32)\n",
    "    out_ds.SetGeoTransform((x1, x_res, 0, y1, 0, y_res))\n",
    "    band = out_ds.GetRasterBand(1)\n",
    "    band.WriteArray(raster.GetRasterBand(band_no + 1).ReadAsArray())\n",
    "    band.FlushCache()\n",
    "    out_ds.SetProjection(out_srs.ExportToWkt())\n",
    "    out_ds = None\n"
   ]
  },
  {
   "cell_type": "code",
   "execution_count": 64,
   "id": "26cb85d6",
   "metadata": {},
   "outputs": [
    {
     "data": {
      "text/plain": [
       "<osgeo.gdal.Driver; proxy of <Swig Object of type 'GDALDriverShadow *' at 0x0000028D70D2DC80> >"
      ]
     },
     "execution_count": 64,
     "metadata": {},
     "output_type": "execute_result"
    }
   ],
   "source": [
    "driver"
   ]
  },
  {
   "cell_type": "code",
   "execution_count": null,
   "id": "682f720e",
   "metadata": {},
   "outputs": [],
   "source": []
  }
 ],
 "metadata": {
  "kernelspec": {
   "display_name": "Python 3 (ipykernel)",
   "language": "python",
   "name": "python3"
  },
  "language_info": {
   "codemirror_mode": {
    "name": "ipython",
    "version": 3
   },
   "file_extension": ".py",
   "mimetype": "text/x-python",
   "name": "python",
   "nbconvert_exporter": "python",
   "pygments_lexer": "ipython3",
   "version": "3.9.16"
  }
 },
 "nbformat": 4,
 "nbformat_minor": 5
}
